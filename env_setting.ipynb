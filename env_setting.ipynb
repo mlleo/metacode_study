{
 "cells": [
  {
   "cell_type": "code",
   "execution_count": 1,
   "metadata": {
    "colab": {
     "base_uri": "https://localhost:8080/"
    },
    "executionInfo": {
     "elapsed": 14817,
     "status": "ok",
     "timestamp": 1751178489508,
     "user": {
      "displayName": "jeongho shin",
      "userId": "06257461622242954072"
     },
     "user_tz": -540
    },
    "id": "21CNMumQXr1Z",
    "outputId": "9c8f22f8-62c2-4c6a-f1c8-89d19bf1c230"
   },
   "outputs": [
    {
     "name": "stdout",
     "output_type": "stream",
     "text": [
      "Mounted at /content/drive\n"
     ]
    }
   ],
   "source": [
    "from google.colab import drive\n",
    "drive.mount('/content/drive')"
   ]
  },
  {
   "cell_type": "markdown",
   "metadata": {
    "id": "aiPyJFKWYBYI"
   },
   "source": [
    "#### 개발 환경 세팅\n",
    "\n",
    "##### 기본적으로 아래의 항목들이 설치되어 있어야 합니다\n",
    "##### git\n",
    "##### vscode 설치 (extenstion으로 python, jupyter, black formatter 설치)\n",
    "##### python (최신 버전 3.11 이상 권장)\n",
    "##### poetry (파이썬 패키지 관리 도구, 버전 충돌 의존성 관리) -> pip3 install poetry==1.8.5\n",
    "##### 실습 레포 클론받기 : git clone https://github.com/mlleo/metacode_study.git\n",
    "##### 실습 레포의 루트에 .env 파일 생성\n",
    "##### LangSmith key 발급 (smith.langchain.com -> settings -> create api key)\n",
    "##### venv로 가상환경 생성 : python -m venv <env_name>\n",
    "##### 가상환경 생성 후 활성화 : source <env_name>/bin/activate\n",
    "##### pip install -r requirements.txt\n",
    "##### poetry shell && poetry update\n",
    "##### pip list\n"
   ]
  }
 ],
 "metadata": {
  "colab": {
   "authorship_tag": "ABX9TyME/4mJkbmWIDUqR4M6Js34",
   "provenance": []
  },
  "kernelspec": {
   "display_name": "Python 3",
   "name": "python3"
  },
  "language_info": {
   "name": "python"
  }
 },
 "nbformat": 4,
 "nbformat_minor": 0
}
